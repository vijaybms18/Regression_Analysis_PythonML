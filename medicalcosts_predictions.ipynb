{
 "cells": [
  {
   "cell_type": "markdown",
   "metadata": {},
   "source": [
    "<center><h1 class=\"list-group-item list-group-item-success\">Medical Cost Prediction</h1></center><br><br>"
   ]
  },
  {
   "cell_type": "markdown",
   "metadata": {},
   "source": [
    "<img src = \"https://i.postimg.cc/HnVfdKsj/med-1.jpg\">"
   ]
  },
  {
   "cell_type": "markdown",
   "metadata": {},
   "source": [
    "Many factors that affect how much you pay for health insurance are not within your control. Nonetheless, it's good to have an understanding of what they are. Here are some factors that affect how much health insurance premiums cost\n",
    "\n",
    "age: age of primary beneficiary\n",
    "\n",
    "sex: insurance contractor gender, female, male\n",
    "\n",
    "bmi: Body mass index, providing an understanding of body, weights that are relatively high or low relative to height, objective index of body weight (kg / m ^ 2) using the ratio of height to weight, ideally 18.5 to 24.9\n",
    "\n",
    "children: Number of children covered by health insurance / Number of dependents\n",
    "\n",
    "smoker: Smoking\n",
    "\n",
    "region: the beneficiary's residential area in the US, northeast, southeast, southwest, northwest"
   ]
  },
  {
   "cell_type": "code",
   "execution_count": 3,
   "metadata": {},
   "outputs": [
    {
     "name": "stdout",
     "output_type": "stream",
     "text": [
      "Collecting PrettyTable\n",
      "  Downloading prettytable-3.5.0-py3-none-any.whl (26 kB)\n",
      "Requirement already satisfied: wcwidth in c:\\users\\hp\\anaconda3\\lib\\site-packages (from PrettyTable) (0.2.5)\n",
      "Installing collected packages: PrettyTable\n",
      "Successfully installed PrettyTable-3.5.0\n",
      "Note: you may need to restart the kernel to use updated packages.\n"
     ]
    }
   ],
   "source": [
    "pip install PrettyTable"
   ]
  },
  {
   "cell_type": "markdown",
   "metadata": {
    "id": "GTW89T9hIs5s"
   },
   "source": [
    "# Importing Libraries"
   ]
  },
  {
   "cell_type": "code",
   "execution_count": 4,
   "metadata": {
    "id": "tpXosfPFmDhu"
   },
   "outputs": [],
   "source": [
    "import numpy as np\n",
    "import pandas as pd\n",
    "from matplotlib import pyplot as plt\n",
    "import seaborn as sns\n",
    "%matplotlib inline\n",
    "import sklearn\n",
    "from sklearn.model_selection import train_test_split, GridSearchCV\n",
    "from sklearn.linear_model import ElasticNet\n",
    "from sklearn.preprocessing import StandardScaler\n",
    "from sklearn.metrics import mean_squared_error, mean_absolute_percentage_error\n",
    "from sklearn.neighbors import KNeighborsRegressor\n",
    "from sklearn.svm import SVR\n",
    "from prettytable import PrettyTable"
   ]
  },
  {
   "cell_type": "markdown",
   "metadata": {
    "id": "wwCAgsKgIzIu"
   },
   "source": [
    "# Loading data"
   ]
  },
  {
   "cell_type": "code",
   "execution_count": 5,
   "metadata": {
    "colab": {
     "base_uri": "https://localhost:8080/",
     "height": 206
    },
    "id": "ohUpTYMMntiK",
    "outputId": "9146224c-56d0-4383-dbec-6940a386dc30"
   },
   "outputs": [
    {
     "data": {
      "text/html": [
       "<div>\n",
       "<style scoped>\n",
       "    .dataframe tbody tr th:only-of-type {\n",
       "        vertical-align: middle;\n",
       "    }\n",
       "\n",
       "    .dataframe tbody tr th {\n",
       "        vertical-align: top;\n",
       "    }\n",
       "\n",
       "    .dataframe thead th {\n",
       "        text-align: right;\n",
       "    }\n",
       "</style>\n",
       "<table border=\"1\" class=\"dataframe\">\n",
       "  <thead>\n",
       "    <tr style=\"text-align: right;\">\n",
       "      <th></th>\n",
       "      <th>age</th>\n",
       "      <th>sex</th>\n",
       "      <th>bmi</th>\n",
       "      <th>children</th>\n",
       "      <th>smoker</th>\n",
       "      <th>region</th>\n",
       "      <th>charges</th>\n",
       "    </tr>\n",
       "  </thead>\n",
       "  <tbody>\n",
       "    <tr>\n",
       "      <th>0</th>\n",
       "      <td>19</td>\n",
       "      <td>female</td>\n",
       "      <td>27.900</td>\n",
       "      <td>0</td>\n",
       "      <td>yes</td>\n",
       "      <td>southwest</td>\n",
       "      <td>16884.92400</td>\n",
       "    </tr>\n",
       "    <tr>\n",
       "      <th>1</th>\n",
       "      <td>18</td>\n",
       "      <td>male</td>\n",
       "      <td>33.770</td>\n",
       "      <td>1</td>\n",
       "      <td>no</td>\n",
       "      <td>southeast</td>\n",
       "      <td>1725.55230</td>\n",
       "    </tr>\n",
       "    <tr>\n",
       "      <th>2</th>\n",
       "      <td>28</td>\n",
       "      <td>male</td>\n",
       "      <td>33.000</td>\n",
       "      <td>3</td>\n",
       "      <td>no</td>\n",
       "      <td>southeast</td>\n",
       "      <td>4449.46200</td>\n",
       "    </tr>\n",
       "    <tr>\n",
       "      <th>3</th>\n",
       "      <td>33</td>\n",
       "      <td>male</td>\n",
       "      <td>22.705</td>\n",
       "      <td>0</td>\n",
       "      <td>no</td>\n",
       "      <td>northwest</td>\n",
       "      <td>21984.47061</td>\n",
       "    </tr>\n",
       "    <tr>\n",
       "      <th>4</th>\n",
       "      <td>32</td>\n",
       "      <td>male</td>\n",
       "      <td>28.880</td>\n",
       "      <td>0</td>\n",
       "      <td>no</td>\n",
       "      <td>northwest</td>\n",
       "      <td>3866.85520</td>\n",
       "    </tr>\n",
       "  </tbody>\n",
       "</table>\n",
       "</div>"
      ],
      "text/plain": [
       "   age     sex     bmi  children smoker     region      charges\n",
       "0   19  female  27.900         0    yes  southwest  16884.92400\n",
       "1   18    male  33.770         1     no  southeast   1725.55230\n",
       "2   28    male  33.000         3     no  southeast   4449.46200\n",
       "3   33    male  22.705         0     no  northwest  21984.47061\n",
       "4   32    male  28.880         0     no  northwest   3866.85520"
      ]
     },
     "execution_count": 5,
     "metadata": {},
     "output_type": "execute_result"
    }
   ],
   "source": [
    "df = pd.read_csv(\"C:\\\\Users\\\\hp\\\\Desktop\\\\MedicalCostsData.csv\")\n",
    "df.head()"
   ]
  },
  {
   "cell_type": "markdown",
   "metadata": {
    "id": "0kEJn-SOsoxN"
   },
   "source": [
    "# Exploratory Data Analysis"
   ]
  },
  {
   "cell_type": "code",
   "execution_count": 6,
   "metadata": {
    "colab": {
     "base_uri": "https://localhost:8080/",
     "height": 300
    },
    "id": "6hrCvIfksr9z",
    "outputId": "9d486633-6732-45ab-81cf-721f5c9131a4"
   },
   "outputs": [
    {
     "data": {
      "text/html": [
       "<div>\n",
       "<style scoped>\n",
       "    .dataframe tbody tr th:only-of-type {\n",
       "        vertical-align: middle;\n",
       "    }\n",
       "\n",
       "    .dataframe tbody tr th {\n",
       "        vertical-align: top;\n",
       "    }\n",
       "\n",
       "    .dataframe thead th {\n",
       "        text-align: right;\n",
       "    }\n",
       "</style>\n",
       "<table border=\"1\" class=\"dataframe\">\n",
       "  <thead>\n",
       "    <tr style=\"text-align: right;\">\n",
       "      <th></th>\n",
       "      <th>age</th>\n",
       "      <th>bmi</th>\n",
       "      <th>children</th>\n",
       "      <th>charges</th>\n",
       "    </tr>\n",
       "  </thead>\n",
       "  <tbody>\n",
       "    <tr>\n",
       "      <th>count</th>\n",
       "      <td>1338.000000</td>\n",
       "      <td>1338.000000</td>\n",
       "      <td>1338.000000</td>\n",
       "      <td>1338.000000</td>\n",
       "    </tr>\n",
       "    <tr>\n",
       "      <th>mean</th>\n",
       "      <td>39.207025</td>\n",
       "      <td>30.663397</td>\n",
       "      <td>1.094918</td>\n",
       "      <td>13270.422265</td>\n",
       "    </tr>\n",
       "    <tr>\n",
       "      <th>std</th>\n",
       "      <td>14.049960</td>\n",
       "      <td>6.098187</td>\n",
       "      <td>1.205493</td>\n",
       "      <td>12110.011237</td>\n",
       "    </tr>\n",
       "    <tr>\n",
       "      <th>min</th>\n",
       "      <td>18.000000</td>\n",
       "      <td>15.960000</td>\n",
       "      <td>0.000000</td>\n",
       "      <td>1121.873900</td>\n",
       "    </tr>\n",
       "    <tr>\n",
       "      <th>25%</th>\n",
       "      <td>27.000000</td>\n",
       "      <td>26.296250</td>\n",
       "      <td>0.000000</td>\n",
       "      <td>4740.287150</td>\n",
       "    </tr>\n",
       "    <tr>\n",
       "      <th>50%</th>\n",
       "      <td>39.000000</td>\n",
       "      <td>30.400000</td>\n",
       "      <td>1.000000</td>\n",
       "      <td>9382.033000</td>\n",
       "    </tr>\n",
       "    <tr>\n",
       "      <th>75%</th>\n",
       "      <td>51.000000</td>\n",
       "      <td>34.693750</td>\n",
       "      <td>2.000000</td>\n",
       "      <td>16639.912515</td>\n",
       "    </tr>\n",
       "    <tr>\n",
       "      <th>max</th>\n",
       "      <td>64.000000</td>\n",
       "      <td>53.130000</td>\n",
       "      <td>5.000000</td>\n",
       "      <td>63770.428010</td>\n",
       "    </tr>\n",
       "  </tbody>\n",
       "</table>\n",
       "</div>"
      ],
      "text/plain": [
       "               age          bmi     children       charges\n",
       "count  1338.000000  1338.000000  1338.000000   1338.000000\n",
       "mean     39.207025    30.663397     1.094918  13270.422265\n",
       "std      14.049960     6.098187     1.205493  12110.011237\n",
       "min      18.000000    15.960000     0.000000   1121.873900\n",
       "25%      27.000000    26.296250     0.000000   4740.287150\n",
       "50%      39.000000    30.400000     1.000000   9382.033000\n",
       "75%      51.000000    34.693750     2.000000  16639.912515\n",
       "max      64.000000    53.130000     5.000000  63770.428010"
      ]
     },
     "execution_count": 6,
     "metadata": {},
     "output_type": "execute_result"
    }
   ],
   "source": [
    "df.describe()"
   ]
  },
  {
   "cell_type": "code",
   "execution_count": 7,
   "metadata": {
    "colab": {
     "base_uri": "https://localhost:8080/"
    },
    "id": "Jg-8VXbpsula",
    "outputId": "39840d0e-6650-439a-e00a-ff58647e9cde"
   },
   "outputs": [
    {
     "name": "stdout",
     "output_type": "stream",
     "text": [
      "<class 'pandas.core.frame.DataFrame'>\n",
      "RangeIndex: 1338 entries, 0 to 1337\n",
      "Data columns (total 7 columns):\n",
      " #   Column    Non-Null Count  Dtype  \n",
      "---  ------    --------------  -----  \n",
      " 0   age       1338 non-null   int64  \n",
      " 1   sex       1338 non-null   object \n",
      " 2   bmi       1338 non-null   float64\n",
      " 3   children  1338 non-null   int64  \n",
      " 4   smoker    1338 non-null   object \n",
      " 5   region    1338 non-null   object \n",
      " 6   charges   1338 non-null   float64\n",
      "dtypes: float64(2), int64(2), object(3)\n",
      "memory usage: 73.3+ KB\n"
     ]
    }
   ],
   "source": [
    "df.info()"
   ]
  },
  {
   "cell_type": "markdown",
   "metadata": {
    "id": "hz5POUIKKTaL"
   },
   "source": [
    "* There are a total of 1338 rows and there are no null values in the dataset."
   ]
  },
  {
   "cell_type": "markdown",
   "metadata": {
    "id": "MXz_7WkVtA91"
   },
   "source": [
    "#### age"
   ]
  },
  {
   "cell_type": "code",
   "execution_count": 8,
   "metadata": {
    "colab": {
     "base_uri": "https://localhost:8080/",
     "height": 297
    },
    "id": "aZbuLRh2nzB5",
    "outputId": "1b217ff0-f97b-4f78-9b50-1e690481095e"
   },
   "outputs": [
    {
     "name": "stdout",
     "output_type": "stream",
     "text": [
      "minimum age: 18, maximum age: 64\n"
     ]
    },
    {
     "data": {
      "image/png": "[encoded data removed]",
      "text/plain": [
       "<Figure size 432x288 with 1 Axes>"
      ]
     },
     "metadata": {
      "needs_background": "light"
     },
     "output_type": "display_data"
    }
   ],
   "source": [
    "print(f\"minimum age: {df['age'].min()}, maximum age: {df['age'].max()}\")\n",
    "sns.histplot(df, x = \"age\", bins = 23, kde = True)\n",
    "plt.show()"
   ]
  },
  {
   "cell_type": "markdown",
   "metadata": {
    "id": "E2Z3d6iFLtoc"
   },
   "source": [
    "* From the above figure, we can see that, in most of the age bin ranges, the distribution of population in age bins is almost uniform except in first and last bin."
   ]
  },
  {
   "cell_type": "code",
   "execution_count": 9,
   "metadata": {
    "colab": {
     "base_uri": "https://localhost:8080/",
     "height": 334
    },
    "id": "kdEG2YhgqghK",
    "outputId": "25ba2306-1e94-452b-e84e-1e82da6ec11e"
   },
   "outputs": [
    {
     "data": {
      "image/png": "[encoded data removed]",
      "text/plain": [
       "<Figure size 720x360 with 1 Axes>"
      ]
     },
     "metadata": {
      "needs_background": "light"
     },
     "output_type": "display_data"
    }
   ],
   "source": [
    "plt.figure(figsize = (10, 5))\n",
    "sns.histplot(df, x = \"age\", hue = \"sex\", multiple = \"dodge\", shrink = .8)\n",
    "plt.show()"
   ]
  },
  {
   "cell_type": "markdown",
   "metadata": {
    "id": "EQG-OqdxNBPZ"
   },
   "source": [
    "* From the above figure, we can see that, in each bin, male and female are almost equal."
   ]
  },
  {
   "cell_type": "code",
   "execution_count": 10,
   "metadata": {
    "colab": {
     "base_uri": "https://localhost:8080/",
     "height": 336
    },
    "id": "1nT5Rmv20I1V",
    "outputId": "38b874af-d068-4f4f-cf98-03527147d176"
   },
   "outputs": [
    {
     "data": {
      "image/png": "[encoded data removed]",
      "text/plain": [
       "<Figure size 720x360 with 1 Axes>"
      ]
     },
     "metadata": {
      "needs_background": "light"
     },
     "output_type": "display_data"
    }
   ],
   "source": [
    "plt.figure(figsize = (10, 5))\n",
    "sns.histplot(df, x = \"age\", hue = \"children\", multiple = \"dodge\", shrink = .8)\n",
    "plt.show()"
   ]
  },
  {
   "cell_type": "code",
   "execution_count": 11,
   "metadata": {
    "colab": {
     "base_uri": "https://localhost:8080/",
     "height": 337
    },
    "id": "Y3bh08Liq5n6",
    "outputId": "c82234a1-1ede-47b8-a869-ca376e43a965"
   },
   "outputs": [
    {
     "data": {
      "image/png": "[encoded data removed]",
      "text/plain": [
       "<Figure size 720x360 with 1 Axes>"
      ]
     },
     "metadata": {
      "needs_background": "light"
     },
     "output_type": "display_data"
    }
   ],
   "source": [
    "plt.figure(figsize = (10, 5))\n",
    "sns.histplot(df, x = \"age\", hue = \"smoker\", multiple = \"dodge\", shrink = .8)\n",
    "plt.show()"
   ]
  },
  {
   "cell_type": "markdown",
   "metadata": {
    "id": "nbY1MT8xPI-c"
   },
   "source": [
    "* From the above figure, we can see that, in each bin, the population of smokers is around 1/3rd of non-smokers."
   ]
  },
  {
   "cell_type": "code",
   "execution_count": 12,
   "metadata": {
    "colab": {
     "base_uri": "https://localhost:8080/",
     "height": 334
    },
    "id": "5MqdmrW_rhYB",
    "outputId": "089de241-5e80-4a9b-ad3e-19239fcba7ee"
   },
   "outputs": [
    {
     "data": {
      "image/png": "[encoded data removed]",
      "text/plain": [
       "<Figure size 720x360 with 1 Axes>"
      ]
     },
     "metadata": {
      "needs_background": "light"
     },
     "output_type": "display_data"
    }
   ],
   "source": [
    "plt.figure(figsize = (10, 5))\n",
    "sns.histplot(df, x = \"age\", hue = \"region\", multiple = \"dodge\", shrink = .8)\n",
    "plt.show()"
   ]
  },
  {
   "cell_type": "markdown",
   "metadata": {
    "id": "yEqF4tH2PieA"
   },
   "source": [
    "* From the above figure, we can see that, in each bin, there are almost equal population from every region."
   ]
  },
  {
   "cell_type": "markdown",
   "metadata": {
    "id": "vdXnCJ14tIrV"
   },
   "source": [
    "#### bmi"
   ]
  },
  {
   "cell_type": "code",
   "execution_count": 13,
   "metadata": {
    "colab": {
     "base_uri": "https://localhost:8080/",
     "height": 387
    },
    "id": "oqNnE5pSr81P",
    "outputId": "55f70019-95a9-4479-e20c-8b5ee60124d3"
   },
   "outputs": [
    {
     "name": "stdout",
     "output_type": "stream",
     "text": [
      "minimum BMI: 15.96, maximum BMI: 53.13\n"
     ]
    },
    {
     "data": {
      "image/png": "[encoded data removed]",
      "text/plain": [
       "<Figure size 360x360 with 1 Axes>"
      ]
     },
     "metadata": {
      "needs_background": "light"
     },
     "output_type": "display_data"
    }
   ],
   "source": [
    "print(f\"minimum BMI: {df['bmi'].min()}, maximum BMI: {df['bmi'].max()}\")\n",
    "sns.displot(df, x = \"bmi\", kde = True)\n",
    "plt.show()"
   ]
  },
  {
   "cell_type": "code",
   "execution_count": 14,
   "metadata": {
    "colab": {
     "base_uri": "https://localhost:8080/",
     "height": 387
    },
    "id": "s-a_UbE4tNc_",
    "outputId": "dc23ee26-4d4b-487f-b534-2ea3c652845c"
   },
   "outputs": [
    {
     "data": {
      "text/plain": [
       "<Figure size 720x360 with 0 Axes>"
      ]
     },
     "metadata": {},
     "output_type": "display_data"
    },
    {
     "data": {
      "image/png": "[encoded data removed]",
      "text/plain": [
       "<Figure size 430.5x360 with 1 Axes>"
      ]
     },
     "metadata": {
      "needs_background": "light"
     },
     "output_type": "display_data"
    }
   ],
   "source": [
    "plt.figure(figsize = (10, 5))\n",
    "sns.displot(df, x = \"bmi\", hue = \"sex\", kind = \"kde\")\n",
    "plt.show()"
   ]
  },
  {
   "cell_type": "markdown",
   "metadata": {
    "id": "FJ3Wrs_cP6eO"
   },
   "source": [
    "* From the above figure, we can see that, male and female bmi distribution is similar."
   ]
  },
  {
   "cell_type": "code",
   "execution_count": 15,
   "metadata": {
    "colab": {
     "base_uri": "https://localhost:8080/",
     "height": 387
    },
    "id": "SuNsJtptt0tl",
    "outputId": "7bcf865b-283c-4a5f-bb02-61e2d15d6848"
   },
   "outputs": [
    {
     "data": {
      "text/plain": [
       "<Figure size 720x360 with 0 Axes>"
      ]
     },
     "metadata": {},
     "output_type": "display_data"
    },
    {
     "data": {
      "image/png": "[encoded data removed]",
      "text/plain": [
       "<Figure size 790.5x360 with 2 Axes>"
      ]
     },
     "metadata": {
      "needs_background": "light"
     },
     "output_type": "display_data"
    }
   ],
   "source": [
    "plt.figure(figsize = (10, 5))\n",
    "sns.displot(df, x = \"bmi\", hue = \"sex\", kind = \"kde\", col = \"smoker\")\n",
    "plt.show()"
   ]
  },
  {
   "cell_type": "code",
   "execution_count": 16,
   "metadata": {
    "colab": {
     "base_uri": "https://localhost:8080/",
     "height": 324
    },
    "id": "Kxn5FTN9uuXe",
    "outputId": "e3bc0fff-a820-4a27-d5d7-2d4c3deeadaa"
   },
   "outputs": [
    {
     "data": {
      "text/plain": [
       "<Figure size 720x504 with 0 Axes>"
      ]
     },
     "metadata": {},
     "output_type": "display_data"
    },
    {
     "data": {
      "image/png": "[encoded data removed]",
      "text/plain": [
       "<Figure size 1510.5x360 with 4 Axes>"
      ]
     },
     "metadata": {
      "needs_background": "light"
     },
     "output_type": "display_data"
    }
   ],
   "source": [
    "plt.figure(figsize = (10, 7))\n",
    "sns.displot(df, x = \"bmi\", hue = \"sex\", kind = \"kde\", col = \"region\")\n",
    "plt.show()"
   ]
  },
  {
   "cell_type": "markdown",
   "metadata": {
    "id": "XrJidZLfvqwf"
   },
   "source": [
    "#### region"
   ]
  },
  {
   "cell_type": "code",
   "execution_count": 17,
   "metadata": {
    "colab": {
     "base_uri": "https://localhost:8080/",
     "height": 279
    },
    "id": "Sk7L0ZGPvxjJ",
    "outputId": "2bd6bb85-eb34-44bd-f67f-45bbf151e5cd"
   },
   "outputs": [
    {
     "data": {
      "image/png": "[encoded data removed]",
      "text/plain": [
       "<Figure size 432x288 with 1 Axes>"
      ]
     },
     "metadata": {
      "needs_background": "light"
     },
     "output_type": "display_data"
    }
   ],
   "source": [
    "sns.histplot(df, x = \"region\")\n",
    "plt.show()"
   ]
  },
  {
   "cell_type": "code",
   "execution_count": 18,
   "metadata": {
    "colab": {
     "base_uri": "https://localhost:8080/",
     "height": 334
    },
    "id": "DpiMDF-f1Np6",
    "outputId": "8bbdd874-5078-4ada-87b8-8676f6c3f6c1"
   },
   "outputs": [
    {
     "data": {
      "image/png": "[encoded data removed]",
      "text/plain": [
       "<Figure size 720x360 with 1 Axes>"
      ]
     },
     "metadata": {
      "needs_background": "light"
     },
     "output_type": "display_data"
    }
   ],
   "source": [
    "plt.figure(figsize = (10, 5))\n",
    "sns.histplot(df, x = \"region\", hue = \"sex\", multiple = \"dodge\", shrink = .8)\n",
    "plt.show()"
   ]
  },
  {
   "cell_type": "markdown",
   "metadata": {
    "id": "TuvLCqidQgGk"
   },
   "source": [
    "* From the above figure, we can see that, from each region the male and female population is almost equal."
   ]
  },
  {
   "cell_type": "code",
   "execution_count": 19,
   "metadata": {
    "colab": {
     "base_uri": "https://localhost:8080/",
     "height": 334
    },
    "id": "6WdAfUIt1fTs",
    "outputId": "bfdc569c-fca5-46f7-e7ab-89a3bb6a47e6"
   },
   "outputs": [
    {
     "data": {
      "image/png": "[encoded data removed]",
      "text/plain": [
       "<Figure size 720x360 with 1 Axes>"
      ]
     },
     "metadata": {
      "needs_background": "light"
     },
     "output_type": "display_data"
    }
   ],
   "source": [
    "plt.figure(figsize = (10, 5))\n",
    "sns.histplot(df, x = \"region\", hue = \"smoker\", multiple = \"dodge\", shrink = .8)\n",
    "plt.show()"
   ]
  },
  {
   "cell_type": "markdown",
   "metadata": {
    "id": "0yWdDvZdQtrK"
   },
   "source": [
    "* From the above figure, we can see that, in each region, the ratio of smoker to non-smoker is almost equal."
   ]
  },
  {
   "cell_type": "markdown",
   "metadata": {
    "id": "mg367DXM2XP1"
   },
   "source": [
    "#### charges"
   ]
  },
  {
   "cell_type": "code",
   "execution_count": 20,
   "metadata": {
    "colab": {
     "base_uri": "https://localhost:8080/",
     "height": 387
    },
    "id": "qnjL6FGu2Nnk",
    "outputId": "00d69879-1d30-4fbe-c1fb-6af95ff3a235"
   },
   "outputs": [
    {
     "name": "stdout",
     "output_type": "stream",
     "text": [
      "minimum charge: 1121.8739, maximum charge: 63770.42801\n"
     ]
    },
    {
     "data": {
      "image/png": "[encoded data removed]",
      "text/plain": [
       "<Figure size 360x360 with 1 Axes>"
      ]
     },
     "metadata": {
      "needs_background": "light"
     },
     "output_type": "display_data"
    }
   ],
   "source": [
    "print(f\"minimum charge: {df['charges'].min()}, maximum charge: {df['charges'].max()}\")\n",
    "sns.displot(df, x = \"charges\", kde = True)\n",
    "plt.show()"
   ]
  },
  {
   "cell_type": "code",
   "execution_count": 21,
   "metadata": {
    "colab": {
     "base_uri": "https://localhost:8080/",
     "height": 350
    },
    "id": "MyeMTYoZ4za1",
    "outputId": "8ef76f59-9ad0-4a21-c564-7cdccff2e148"
   },
   "outputs": [
    {
     "data": {
      "image/png": "[encoded data removed]",
      "text/plain": [
       "<Figure size 720x360 with 1 Axes>"
      ]
     },
     "metadata": {
      "needs_background": "light"
     },
     "output_type": "display_data"
    }
   ],
   "source": [
    "plt.figure(figsize = (10, 5))\n",
    "plt.scatter(df[\"age\"], df[\"charges\"])\n",
    "plt.xlabel(\"age\")\n",
    "plt.ylabel(\"charges\")\n",
    "plt.title(\"charges vs age scatter plot\")\n",
    "plt.show()"
   ]
  },
  {
   "cell_type": "markdown",
   "metadata": {
    "id": "fTKsHEMXQ-u7"
   },
   "source": [
    "* From the above figure, we can see that, as the age increases the charges increases. We can see an upward trend in charges. This is obvious as the age increses the chance of getting illness increases and medical charges increses."
   ]
  },
  {
   "cell_type": "code",
   "execution_count": 22,
   "metadata": {
    "colab": {
     "base_uri": "https://localhost:8080/",
     "height": 387
    },
    "id": "HdSx5LIx2hC1",
    "outputId": "10257e99-7019-40c6-c264-0ede66d87c61"
   },
   "outputs": [
    {
     "data": {
      "text/plain": [
       "<Figure size 720x360 with 0 Axes>"
      ]
     },
     "metadata": {},
     "output_type": "display_data"
    },
    {
     "data": {
      "image/png": "[encoded data removed]",
      "text/plain": [
       "<Figure size 430.5x360 with 1 Axes>"
      ]
     },
     "metadata": {
      "needs_background": "light"
     },
     "output_type": "display_data"
    }
   ],
   "source": [
    "plt.figure(figsize = (10, 5))\n",
    "sns.displot(df, x = \"charges\", hue = \"sex\", kind = \"kde\")\n",
    "plt.show()"
   ]
  },
  {
   "cell_type": "code",
   "execution_count": 23,
   "metadata": {
    "colab": {
     "base_uri": "https://localhost:8080/",
     "height": 387
    },
    "id": "uJJDHOLs38qp",
    "outputId": "5a57237f-61b6-4a43-a7b8-eab5fd146742"
   },
   "outputs": [
    {
     "data": {
      "text/plain": [
       "<Figure size 720x360 with 0 Axes>"
      ]
     },
     "metadata": {},
     "output_type": "display_data"
    },
    {
     "data": {
      "image/png": "[encoded data removed]",
      "text/plain": [
       "<Figure size 413.25x360 with 1 Axes>"
      ]
     },
     "metadata": {
      "needs_background": "light"
     },
     "output_type": "display_data"
    }
   ],
   "source": [
    "plt.figure(figsize = (10, 5))\n",
    "sns.displot(df, x = \"charges\", hue = \"smoker\", kind = \"kde\")\n",
    "plt.show()"
   ]
  },
  {
   "cell_type": "markdown",
   "metadata": {
    "id": "dv7spMNZepCU"
   },
   "source": [
    "From the above figure, we can see that, smokers pay high charges when compared to non-smokers."
   ]
  },
  {
   "cell_type": "code",
   "execution_count": 24,
   "metadata": {
    "colab": {
     "base_uri": "https://localhost:8080/",
     "height": 324
    },
    "id": "JC39pjTW2yZY",
    "outputId": "85bc2b43-1649-4443-f531-9d5a50bea804"
   },
   "outputs": [
    {
     "data": {
      "text/plain": [
       "<Figure size 720x504 with 0 Axes>"
      ]
     },
     "metadata": {},
     "output_type": "display_data"
    },
    {
     "data": {
      "image/png": "[encoded data removed]",
      "text/plain": [
       "<Figure size 1510.5x360 with 4 Axes>"
      ]
     },
     "metadata": {
      "needs_background": "light"
     },
     "output_type": "display_data"
    }
   ],
   "source": [
    "plt.figure(figsize = (10, 7))\n",
    "sns.displot(df, x = \"charges\", hue = \"sex\", kind = \"kde\", col = \"region\")\n",
    "plt.show()"
   ]
  },
  {
   "cell_type": "code",
   "execution_count": 25,
   "metadata": {
    "colab": {
     "base_uri": "https://localhost:8080/",
     "height": 206
    },
    "id": "WVHGkq5M3yDm",
    "outputId": "e67c6f39-ad7d-4587-844f-fde8063af8e1"
   },
   "outputs": [
    {
     "data": {
      "text/html": [
       "<div>\n",
       "<style scoped>\n",
       "    .dataframe tbody tr th:only-of-type {\n",
       "        vertical-align: middle;\n",
       "    }\n",
       "\n",
       "    .dataframe tbody tr th {\n",
       "        vertical-align: top;\n",
       "    }\n",
       "\n",
       "    .dataframe thead th {\n",
       "        text-align: right;\n",
       "    }\n",
       "</style>\n",
       "<table border=\"1\" class=\"dataframe\">\n",
       "  <thead>\n",
       "    <tr style=\"text-align: right;\">\n",
       "      <th></th>\n",
       "      <th>age</th>\n",
       "      <th>bmi</th>\n",
       "      <th>children</th>\n",
       "      <th>charges</th>\n",
       "      <th>sex_female</th>\n",
       "      <th>smoker_yes</th>\n",
       "      <th>region_northeast</th>\n",
       "      <th>region_northwest</th>\n",
       "      <th>region_southeast</th>\n",
       "      <th>region_southwest</th>\n",
       "    </tr>\n",
       "  </thead>\n",
       "  <tbody>\n",
       "    <tr>\n",
       "      <th>0</th>\n",
       "      <td>19</td>\n",
       "      <td>27.900</td>\n",
       "      <td>0</td>\n",
       "      <td>16884.92400</td>\n",
       "      <td>1</td>\n",
       "      <td>1</td>\n",
       "      <td>0</td>\n",
       "      <td>0</td>\n",
       "      <td>0</td>\n",
       "      <td>1</td>\n",
       "    </tr>\n",
       "    <tr>\n",
       "      <th>1</th>\n",
       "      <td>18</td>\n",
       "      <td>33.770</td>\n",
       "      <td>1</td>\n",
       "      <td>1725.55230</td>\n",
       "      <td>0</td>\n",
       "      <td>0</td>\n",
       "      <td>0</td>\n",
       "      <td>0</td>\n",
       "      <td>1</td>\n",
       "      <td>0</td>\n",
       "    </tr>\n",
       "    <tr>\n",
       "      <th>2</th>\n",
       "      <td>28</td>\n",
       "      <td>33.000</td>\n",
       "      <td>3</td>\n",
       "      <td>4449.46200</td>\n",
       "      <td>0</td>\n",
       "      <td>0</td>\n",
       "      <td>0</td>\n",
       "      <td>0</td>\n",
       "      <td>1</td>\n",
       "      <td>0</td>\n",
       "    </tr>\n",
       "    <tr>\n",
       "      <th>3</th>\n",
       "      <td>33</td>\n",
       "      <td>22.705</td>\n",
       "      <td>0</td>\n",
       "      <td>21984.47061</td>\n",
       "      <td>0</td>\n",
       "      <td>0</td>\n",
       "      <td>0</td>\n",
       "      <td>1</td>\n",
       "      <td>0</td>\n",
       "      <td>0</td>\n",
       "    </tr>\n",
       "    <tr>\n",
       "      <th>4</th>\n",
       "      <td>32</td>\n",
       "      <td>28.880</td>\n",
       "      <td>0</td>\n",
       "      <td>3866.85520</td>\n",
       "      <td>0</td>\n",
       "      <td>0</td>\n",
       "      <td>0</td>\n",
       "      <td>1</td>\n",
       "      <td>0</td>\n",
       "      <td>0</td>\n",
       "    </tr>\n",
       "  </tbody>\n",
       "</table>\n",
       "</div>"
      ],
      "text/plain": [
       "   age     bmi  children      charges  sex_female  smoker_yes  \\\n",
       "0   19  27.900         0  16884.92400           1           1   \n",
       "1   18  33.770         1   1725.55230           0           0   \n",
       "2   28  33.000         3   4449.46200           0           0   \n",
       "3   33  22.705         0  21984.47061           0           0   \n",
       "4   32  28.880         0   3866.85520           0           0   \n",
       "\n",
       "   region_northeast  region_northwest  region_southeast  region_southwest  \n",
       "0                 0                 0                 0                 1  \n",
       "1                 0                 0                 1                 0  \n",
       "2                 0                 0                 1                 0  \n",
       "3                 0                 1                 0                 0  \n",
       "4                 0                 1                 0                 0  "
      ]
     },
     "execution_count": 25,
     "metadata": {},
     "output_type": "execute_result"
    }
   ],
   "source": [
    "df_expanded = pd.get_dummies(df)\n",
    "df_expanded.drop(columns = [\"sex_male\", \"smoker_no\"], inplace = True)\n",
    "df_expanded.head()"
   ]
  },
  {
   "cell_type": "code",
   "execution_count": 26,
   "metadata": {
    "colab": {
     "base_uri": "https://localhost:8080/"
    },
    "id": "pk-iR_lmNVpE",
    "outputId": "f061f2c0-a642-432c-95e4-c34e14cd251d"
   },
   "outputs": [
    {
     "data": {
      "text/plain": [
       "((1003, 10), (335, 10))"
      ]
     },
     "execution_count": 26,
     "metadata": {},
     "output_type": "execute_result"
    }
   ],
   "source": [
    "train, test = train_test_split(df_expanded, test_size = .25)\n",
    "\n",
    "train.shape, test.shape"
   ]
  },
  {
   "cell_type": "code",
   "execution_count": 27,
   "metadata": {
    "colab": {
     "base_uri": "https://localhost:8080/"
    },
    "id": "C42coNGBKit_",
    "outputId": "6a93d553-fd46-4706-9a30-cfd0f8826c27"
   },
   "outputs": [
    {
     "data": {
      "text/plain": [
       "((1003, 9), (335, 9), (1003, 1), (335, 1))"
      ]
     },
     "execution_count": 27,
     "metadata": {},
     "output_type": "execute_result"
    }
   ],
   "source": [
    "x_train = train.drop(columns = [\"charges\"])\n",
    "x_test = test.drop(columns = [\"charges\"])\n",
    "y_train = np.array(train[\"charges\"]).reshape(-1, 1)\n",
    "y_test = np.array(test[\"charges\"]).reshape(-1, 1)\n",
    "\n",
    "x_scaler = StandardScaler()\n",
    "y_scaler = StandardScaler()\n",
    "\n",
    "x_scaler.fit(x_train)\n",
    "y_scaler.fit(y_train)\n",
    "\n",
    "x_train_scaled = x_scaler.transform(x_train)\n",
    "x_test_scaled = x_scaler.transform(x_test)\n",
    "\n",
    "y_train_scaled = y_scaler.transform(y_train)\n",
    "y_test_scaled = y_scaler.transform(y_test)\n",
    "\n",
    "\n",
    "x_train_scaled.shape, x_test_scaled.shape, y_train_scaled.shape, y_test_scaled.shape"
   ]
  },
  {
   "cell_type": "markdown",
   "metadata": {
    "id": "lz0M8XmQ2PyZ"
   },
   "source": [
    "# Linear Regression"
   ]
  },
  {
   "cell_type": "code",
   "execution_count": 28,
   "metadata": {
    "colab": {
     "base_uri": "https://localhost:8080/"
    },
    "id": "bw741YgKQNeX",
    "outputId": "5fdae64e-0075-4b6c-b6ec-9600efaeedeb"
   },
   "outputs": [
    {
     "name": "stdout",
     "output_type": "stream",
     "text": [
      "Fitting 5 folds for each of 165 candidates, totalling 825 fits\n"
     ]
    },
    {
     "data": {
      "text/plain": [
       "GridSearchCV(cv=5, estimator=ElasticNet(), n_jobs=-1,\n",
       "             param_grid={'alpha': [1e-05, 3.3e-05, 0.0001, 0.00033, 0.001,\n",
       "                                   0.0033, 0.01, 0.033, 0.1, 0.33, 1, 3.3, 10,\n",
       "                                   33, 100],\n",
       "                         'l1_ratio': [0, 0.1, 0.2, 0.3, 0.4, 0.5, 0.6, 0.7, 0.8,\n",
       "                                      0.9, 1]},\n",
       "             return_train_score=True,\n",
       "             scoring='neg_mean_absolute_percentage_error', verbose=1)"
      ]
     },
     "execution_count": 28,
     "metadata": {},
     "output_type": "execute_result"
    }
   ],
   "source": [
    "model = ElasticNet()\n",
    "params = {\"alpha\": [.00001, .000033, .0001, .00033, .001, .0033, .01, .033, .1, .33, 1, 3.3, 10, 33, 100], \n",
    "          \"l1_ratio\" : [0, .1, .2, .3, .4, .5, .6, .7, .8, .9, 1]}\n",
    "gridsearch = GridSearchCV(model, params, scoring = \"neg_mean_absolute_percentage_error\", n_jobs = -1, \n",
    "                          cv = 5, return_train_score = True, verbose = 1)\n",
    "gridsearch.fit(x_train_scaled, y_train_scaled)"
   ]
  },
  {
   "cell_type": "code",
   "execution_count": 29,
   "metadata": {
    "colab": {
     "base_uri": "https://localhost:8080/",
     "height": 531
    },
    "id": "UW2TSGrvSADO",
    "outputId": "4e409322-5151-4fd6-db1d-5fb89d036768"
   },
   "outputs": [
    {
     "data": {
      "text/html": [
       "<div>\n",
       "<style scoped>\n",
       "    .dataframe tbody tr th:only-of-type {\n",
       "        vertical-align: middle;\n",
       "    }\n",
       "\n",
       "    .dataframe tbody tr th {\n",
       "        vertical-align: top;\n",
       "    }\n",
       "\n",
       "    .dataframe thead th {\n",
       "        text-align: right;\n",
       "    }\n",
       "</style>\n",
       "<table border=\"1\" class=\"dataframe\">\n",
       "  <thead>\n",
       "    <tr style=\"text-align: right;\">\n",
       "      <th></th>\n",
       "      <th>mean_fit_time</th>\n",
       "      <th>std_fit_time</th>\n",
       "      <th>mean_score_time</th>\n",
       "      <th>std_score_time</th>\n",
       "      <th>param_alpha</th>\n",
       "      <th>param_l1_ratio</th>\n",
       "      <th>params</th>\n",
       "      <th>split0_test_score</th>\n",
       "      <th>split1_test_score</th>\n",
       "      <th>split2_test_score</th>\n",
       "      <th>...</th>\n",
       "      <th>mean_test_score</th>\n",
       "      <th>std_test_score</th>\n",
       "      <th>rank_test_score</th>\n",
       "      <th>split0_train_score</th>\n",
       "      <th>split1_train_score</th>\n",
       "      <th>split2_train_score</th>\n",
       "      <th>split3_train_score</th>\n",
       "      <th>split4_train_score</th>\n",
       "      <th>mean_train_score</th>\n",
       "      <th>std_train_score</th>\n",
       "    </tr>\n",
       "  </thead>\n",
       "  <tbody>\n",
       "    <tr>\n",
       "      <th>0</th>\n",
       "      <td>0.035099</td>\n",
       "      <td>1.841077e-02</td>\n",
       "      <td>0.001482</td>\n",
       "      <td>0.001139</td>\n",
       "      <td>0.00001</td>\n",
       "      <td>0</td>\n",
       "      <td>{'alpha': 1e-05, 'l1_ratio': 0}</td>\n",
       "      <td>-1.039201</td>\n",
       "      <td>-1.134836</td>\n",
       "      <td>-1.397637</td>\n",
       "      <td>...</td>\n",
       "      <td>1.226222</td>\n",
       "      <td>0.219165</td>\n",
       "      <td>158</td>\n",
       "      <td>-1.277510</td>\n",
       "      <td>-1.176851</td>\n",
       "      <td>-1.133829</td>\n",
       "      <td>-1.240474</td>\n",
       "      <td>-1.065641</td>\n",
       "      <td>1.178861</td>\n",
       "      <td>0.075337</td>\n",
       "    </tr>\n",
       "    <tr>\n",
       "      <th>1</th>\n",
       "      <td>0.008394</td>\n",
       "      <td>5.674093e-03</td>\n",
       "      <td>0.000586</td>\n",
       "      <td>0.000479</td>\n",
       "      <td>0.00001</td>\n",
       "      <td>0.1</td>\n",
       "      <td>{'alpha': 1e-05, 'l1_ratio': 0.1}</td>\n",
       "      <td>-1.039198</td>\n",
       "      <td>-1.134834</td>\n",
       "      <td>-1.397632</td>\n",
       "      <td>...</td>\n",
       "      <td>1.226218</td>\n",
       "      <td>0.219165</td>\n",
       "      <td>157</td>\n",
       "      <td>-1.277507</td>\n",
       "      <td>-1.176845</td>\n",
       "      <td>-1.133826</td>\n",
       "      <td>-1.240469</td>\n",
       "      <td>-1.065638</td>\n",
       "      <td>1.178857</td>\n",
       "      <td>0.075337</td>\n",
       "    </tr>\n",
       "    <tr>\n",
       "      <th>2</th>\n",
       "      <td>0.001592</td>\n",
       "      <td>4.851456e-04</td>\n",
       "      <td>0.001197</td>\n",
       "      <td>0.000747</td>\n",
       "      <td>0.00001</td>\n",
       "      <td>0.2</td>\n",
       "      <td>{'alpha': 1e-05, 'l1_ratio': 0.2}</td>\n",
       "      <td>-1.039194</td>\n",
       "      <td>-1.134831</td>\n",
       "      <td>-1.397627</td>\n",
       "      <td>...</td>\n",
       "      <td>1.226214</td>\n",
       "      <td>0.219166</td>\n",
       "      <td>156</td>\n",
       "      <td>-1.277504</td>\n",
       "      <td>-1.176839</td>\n",
       "      <td>-1.133824</td>\n",
       "      <td>-1.240463</td>\n",
       "      <td>-1.065634</td>\n",
       "      <td>1.178853</td>\n",
       "      <td>0.075337</td>\n",
       "    </tr>\n",
       "    <tr>\n",
       "      <th>3</th>\n",
       "      <td>0.001197</td>\n",
       "      <td>3.991605e-04</td>\n",
       "      <td>0.002194</td>\n",
       "      <td>0.002475</td>\n",
       "      <td>0.00001</td>\n",
       "      <td>0.3</td>\n",
       "      <td>{'alpha': 1e-05, 'l1_ratio': 0.3}</td>\n",
       "      <td>-1.039190</td>\n",
       "      <td>-1.134829</td>\n",
       "      <td>-1.397622</td>\n",
       "      <td>...</td>\n",
       "      <td>1.226210</td>\n",
       "      <td>0.219166</td>\n",
       "      <td>155</td>\n",
       "      <td>-1.277501</td>\n",
       "      <td>-1.176832</td>\n",
       "      <td>-1.133822</td>\n",
       "      <td>-1.240458</td>\n",
       "      <td>-1.065631</td>\n",
       "      <td>1.178849</td>\n",
       "      <td>0.075336</td>\n",
       "    </tr>\n",
       "    <tr>\n",
       "      <th>4</th>\n",
       "      <td>0.000997</td>\n",
       "      <td>3.568323e-07</td>\n",
       "      <td>0.000798</td>\n",
       "      <td>0.000399</td>\n",
       "      <td>0.00001</td>\n",
       "      <td>0.4</td>\n",
       "      <td>{'alpha': 1e-05, 'l1_ratio': 0.4}</td>\n",
       "      <td>-1.039186</td>\n",
       "      <td>-1.134827</td>\n",
       "      <td>-1.397617</td>\n",
       "      <td>...</td>\n",
       "      <td>1.226205</td>\n",
       "      <td>0.219167</td>\n",
       "      <td>154</td>\n",
       "      <td>-1.277498</td>\n",
       "      <td>-1.176826</td>\n",
       "      <td>-1.133820</td>\n",
       "      <td>-1.240452</td>\n",
       "      <td>-1.065627</td>\n",
       "      <td>1.178845</td>\n",
       "      <td>0.075336</td>\n",
       "    </tr>\n",
       "  </tbody>\n",
       "</table>\n",
       "<p>5 rows × 22 columns</p>\n",
       "</div>"
      ],
      "text/plain": [
       "   mean_fit_time  std_fit_time  mean_score_time  std_score_time param_alpha  \\\n",
       "0       0.035099  1.841077e-02         0.001482        0.001139     0.00001   \n",
       "1       0.008394  5.674093e-03         0.000586        0.000479     0.00001   \n",
       "2       0.001592  4.851456e-04         0.001197        0.000747     0.00001   \n",
       "3       0.001197  3.991605e-04         0.002194        0.002475     0.00001   \n",
       "4       0.000997  3.568323e-07         0.000798        0.000399     0.00001   \n",
       "\n",
       "  param_l1_ratio                             params  split0_test_score  \\\n",
       "0              0    {'alpha': 1e-05, 'l1_ratio': 0}          -1.039201   \n",
       "1            0.1  {'alpha': 1e-05, 'l1_ratio': 0.1}          -1.039198   \n",
       "2            0.2  {'alpha': 1e-05, 'l1_ratio': 0.2}          -1.039194   \n",
       "3            0.3  {'alpha': 1e-05, 'l1_ratio': 0.3}          -1.039190   \n",
       "4            0.4  {'alpha': 1e-05, 'l1_ratio': 0.4}          -1.039186   \n",
       "\n",
       "   split1_test_score  split2_test_score  ...  mean_test_score  std_test_score  \\\n",
       "0          -1.134836          -1.397637  ...         1.226222        0.219165   \n",
       "1          -1.134834          -1.397632  ...         1.226218        0.219165   \n",
       "2          -1.134831          -1.397627  ...         1.226214        0.219166   \n",
       "3          -1.134829          -1.397622  ...         1.226210        0.219166   \n",
       "4          -1.134827          -1.397617  ...         1.226205        0.219167   \n",
       "\n",
       "   rank_test_score  split0_train_score  split1_train_score  \\\n",
       "0              158           -1.277510           -1.176851   \n",
       "1              157           -1.277507           -1.176845   \n",
       "2              156           -1.277504           -1.176839   \n",
       "3              155           -1.277501           -1.176832   \n",
       "4              154           -1.277498           -1.176826   \n",
       "\n",
       "   split2_train_score  split3_train_score  split4_train_score  \\\n",
       "0           -1.133829           -1.240474           -1.065641   \n",
       "1           -1.133826           -1.240469           -1.065638   \n",
       "2           -1.133824           -1.240463           -1.065634   \n",
       "3           -1.133822           -1.240458           -1.065631   \n",
       "4           -1.133820           -1.240452           -1.065627   \n",
       "\n",
       "   mean_train_score  std_train_score  \n",
       "0          1.178861         0.075337  \n",
       "1          1.178857         0.075337  \n",
       "2          1.178853         0.075337  \n",
       "3          1.178849         0.075336  \n",
       "4          1.178845         0.075336  \n",
       "\n",
       "[5 rows x 22 columns]"
      ]
     },
     "execution_count": 29,
     "metadata": {},
     "output_type": "execute_result"
    }
   ],
   "source": [
    "results = pd.DataFrame.from_dict(gridsearch.cv_results_)\n",
    "results[\"mean_test_score\"] = results[\"mean_test_score\"].apply(abs)\n",
    "results[\"mean_train_score\"] = results[\"mean_train_score\"].apply(abs)\n",
    "results.head()"
   ]
  },
  {
   "cell_type": "code",
   "execution_count": 30,
   "metadata": {
    "id": "mYZVtIoKTnrH"
   },
   "outputs": [],
   "source": [
    "# Params\n",
    "l1_ratio = .1\n",
    "alpha = 1"
   ]
  },
  {
   "cell_type": "code",
   "execution_count": 31,
   "metadata": {
    "colab": {
     "base_uri": "https://localhost:8080/"
    },
    "id": "NOQTeUwUT-Uc",
    "outputId": "9a7b1a27-9710-4099-c26f-10de52ba4b39"
   },
   "outputs": [
    {
     "data": {
      "text/plain": [
       "(8619.917909381817, 1.0033543656078332)"
      ]
     },
     "execution_count": 31,
     "metadata": {},
     "output_type": "execute_result"
    }
   ],
   "source": [
    "model = ElasticNet(l1_ratio = l1_ratio, alpha = alpha)\n",
    "model.fit(x_train_scaled, y_train_scaled)\n",
    "\n",
    "y_pred_scaled = model.predict(x_test_scaled)\n",
    "y_pred = y_scaler.inverse_transform(y_pred_scaled.reshape(-1, 1))\n",
    "\n",
    "mean_squared_error(y_test, y_pred, squared = False), mean_absolute_percentage_error(y_test, y_pred)"
   ]
  },
  {
   "cell_type": "markdown",
   "metadata": {
    "id": "i8aYi_XH2VeP"
   },
   "source": [
    "# kNN Regressor"
   ]
  },
  {
   "cell_type": "code",
   "execution_count": 32,
   "metadata": {
    "colab": {
     "base_uri": "https://localhost:8080/"
    },
    "id": "CIXChlh_1LR6",
    "outputId": "69b6a496-d593-4bf5-c14f-4d611e3f0341"
   },
   "outputs": [
    {
     "name": "stdout",
     "output_type": "stream",
     "text": [
      "Fitting 5 folds for each of 46 candidates, totalling 230 fits\n"
     ]
    },
    {
     "data": {
      "text/plain": [
       "GridSearchCV(cv=5, estimator=KNeighborsRegressor(), n_jobs=-1,\n",
       "             param_grid={'n_neighbors': [1, 3, 5, 7, 9, 11, 13, 15, 17, 19, 21,\n",
       "                                         23, 25, 27, 29, 31, 33, 35, 37, 39, 41,\n",
       "                                         43, 45],\n",
       "                         'weights': ['uniform', 'distance']},\n",
       "             return_train_score=True,\n",
       "             scoring='neg_mean_absolute_percentage_error', verbose=1)"
      ]
     },
     "execution_count": 32,
     "metadata": {},
     "output_type": "execute_result"
    }
   ],
   "source": [
    "model = KNeighborsRegressor()\n",
    "params = {\"n_neighbors\" : [1, 3, 5, 7, 9, 11, 13, 15, 17, 19, 21, 23, 25, 27, 29, 31, 33, 35, 37, 39, 41, 43, 45], \n",
    "          \"weights\" : [\"uniform\", \"distance\"]}\n",
    "gridsearch = GridSearchCV(model, params, scoring = \"neg_mean_absolute_percentage_error\", n_jobs = -1, \n",
    "                          cv = 5, return_train_score = True, verbose = 1)\n",
    "gridsearch.fit(x_train_scaled, y_train_scaled)"
   ]
  },
  {
   "cell_type": "code",
   "execution_count": 33,
   "metadata": {
    "colab": {
     "base_uri": "https://localhost:8080/",
     "height": 444
    },
    "id": "c7uXdJME6JER",
    "outputId": "a479197c-73f2-4a1b-ba07-748df5d4c8ba"
   },
   "outputs": [
    {
     "data": {
      "text/html": [
       "<div>\n",
       "<style scoped>\n",
       "    .dataframe tbody tr th:only-of-type {\n",
       "        vertical-align: middle;\n",
       "    }\n",
       "\n",
       "    .dataframe tbody tr th {\n",
       "        vertical-align: top;\n",
       "    }\n",
       "\n",
       "    .dataframe thead th {\n",
       "        text-align: right;\n",
       "    }\n",
       "</style>\n",
       "<table border=\"1\" class=\"dataframe\">\n",
       "  <thead>\n",
       "    <tr style=\"text-align: right;\">\n",
       "      <th></th>\n",
       "      <th>mean_fit_time</th>\n",
       "      <th>std_fit_time</th>\n",
       "      <th>mean_score_time</th>\n",
       "      <th>std_score_time</th>\n",
       "      <th>param_n_neighbors</th>\n",
       "      <th>param_weights</th>\n",
       "      <th>params</th>\n",
       "      <th>split0_test_score</th>\n",
       "      <th>split1_test_score</th>\n",
       "      <th>split2_test_score</th>\n",
       "      <th>...</th>\n",
       "      <th>mean_test_score</th>\n",
       "      <th>std_test_score</th>\n",
       "      <th>rank_test_score</th>\n",
       "      <th>split0_train_score</th>\n",
       "      <th>split1_train_score</th>\n",
       "      <th>split2_train_score</th>\n",
       "      <th>split3_train_score</th>\n",
       "      <th>split4_train_score</th>\n",
       "      <th>mean_train_score</th>\n",
       "      <th>std_train_score</th>\n",
       "    </tr>\n",
       "  </thead>\n",
       "  <tbody>\n",
       "    <tr>\n",
       "      <th>0</th>\n",
       "      <td>0.003601</td>\n",
       "      <td>0.001513</td>\n",
       "      <td>0.003132</td>\n",
       "      <td>0.001116</td>\n",
       "      <td>1</td>\n",
       "      <td>uniform</td>\n",
       "      <td>{'n_neighbors': 1, 'weights': 'uniform'}</td>\n",
       "      <td>-0.821122</td>\n",
       "      <td>-0.899368</td>\n",
       "      <td>-1.259643</td>\n",
       "      <td>...</td>\n",
       "      <td>1.394821</td>\n",
       "      <td>0.649748</td>\n",
       "      <td>44</td>\n",
       "      <td>-0.000000</td>\n",
       "      <td>-0.000000</td>\n",
       "      <td>-0.000000</td>\n",
       "      <td>-0.000000</td>\n",
       "      <td>-0.000000</td>\n",
       "      <td>0.000000</td>\n",
       "      <td>0.000000</td>\n",
       "    </tr>\n",
       "    <tr>\n",
       "      <th>1</th>\n",
       "      <td>0.002624</td>\n",
       "      <td>0.000453</td>\n",
       "      <td>0.002562</td>\n",
       "      <td>0.000467</td>\n",
       "      <td>1</td>\n",
       "      <td>distance</td>\n",
       "      <td>{'n_neighbors': 1, 'weights': 'distance'}</td>\n",
       "      <td>-0.821122</td>\n",
       "      <td>-0.899368</td>\n",
       "      <td>-1.259643</td>\n",
       "      <td>...</td>\n",
       "      <td>1.394821</td>\n",
       "      <td>0.649748</td>\n",
       "      <td>44</td>\n",
       "      <td>-0.000000</td>\n",
       "      <td>-0.000000</td>\n",
       "      <td>-0.000000</td>\n",
       "      <td>-0.000000</td>\n",
       "      <td>-0.000000</td>\n",
       "      <td>0.000000</td>\n",
       "      <td>0.000000</td>\n",
       "    </tr>\n",
       "    <tr>\n",
       "      <th>2</th>\n",
       "      <td>0.002762</td>\n",
       "      <td>0.000388</td>\n",
       "      <td>0.002793</td>\n",
       "      <td>0.000400</td>\n",
       "      <td>3</td>\n",
       "      <td>uniform</td>\n",
       "      <td>{'n_neighbors': 3, 'weights': 'uniform'}</td>\n",
       "      <td>-1.024944</td>\n",
       "      <td>-0.919585</td>\n",
       "      <td>-1.116104</td>\n",
       "      <td>...</td>\n",
       "      <td>1.434291</td>\n",
       "      <td>0.515548</td>\n",
       "      <td>46</td>\n",
       "      <td>-0.892133</td>\n",
       "      <td>-0.875618</td>\n",
       "      <td>-0.881866</td>\n",
       "      <td>-0.804358</td>\n",
       "      <td>-0.725868</td>\n",
       "      <td>0.835968</td>\n",
       "      <td>0.063174</td>\n",
       "    </tr>\n",
       "    <tr>\n",
       "      <th>3</th>\n",
       "      <td>0.002193</td>\n",
       "      <td>0.000399</td>\n",
       "      <td>0.003287</td>\n",
       "      <td>0.000366</td>\n",
       "      <td>3</td>\n",
       "      <td>distance</td>\n",
       "      <td>{'n_neighbors': 3, 'weights': 'distance'}</td>\n",
       "      <td>-0.824822</td>\n",
       "      <td>-0.755185</td>\n",
       "      <td>-1.043138</td>\n",
       "      <td>...</td>\n",
       "      <td>1.272036</td>\n",
       "      <td>0.497119</td>\n",
       "      <td>30</td>\n",
       "      <td>-0.000000</td>\n",
       "      <td>-0.000000</td>\n",
       "      <td>-0.000000</td>\n",
       "      <td>-0.000000</td>\n",
       "      <td>-0.000000</td>\n",
       "      <td>0.000000</td>\n",
       "      <td>0.000000</td>\n",
       "    </tr>\n",
       "    <tr>\n",
       "      <th>4</th>\n",
       "      <td>0.002194</td>\n",
       "      <td>0.000402</td>\n",
       "      <td>0.003576</td>\n",
       "      <td>0.000477</td>\n",
       "      <td>5</td>\n",
       "      <td>uniform</td>\n",
       "      <td>{'n_neighbors': 5, 'weights': 'uniform'}</td>\n",
       "      <td>-0.904828</td>\n",
       "      <td>-0.865089</td>\n",
       "      <td>-1.187153</td>\n",
       "      <td>...</td>\n",
       "      <td>1.186356</td>\n",
       "      <td>0.343695</td>\n",
       "      <td>27</td>\n",
       "      <td>-1.216975</td>\n",
       "      <td>-1.145306</td>\n",
       "      <td>-1.037295</td>\n",
       "      <td>-1.016296</td>\n",
       "      <td>-1.005859</td>\n",
       "      <td>1.084346</td>\n",
       "      <td>0.082839</td>\n",
       "    </tr>\n",
       "  </tbody>\n",
       "</table>\n",
       "<p>5 rows × 22 columns</p>\n",
       "</div>"
      ],
      "text/plain": [
       "   mean_fit_time  std_fit_time  mean_score_time  std_score_time  \\\n",
       "0       0.003601      0.001513         0.003132        0.001116   \n",
       "1       0.002624      0.000453         0.002562        0.000467   \n",
       "2       0.002762      0.000388         0.002793        0.000400   \n",
       "3       0.002193      0.000399         0.003287        0.000366   \n",
       "4       0.002194      0.000402         0.003576        0.000477   \n",
       "\n",
       "  param_n_neighbors param_weights                                     params  \\\n",
       "0                 1       uniform   {'n_neighbors': 1, 'weights': 'uniform'}   \n",
       "1                 1      distance  {'n_neighbors': 1, 'weights': 'distance'}   \n",
       "2                 3       uniform   {'n_neighbors': 3, 'weights': 'uniform'}   \n",
       "3                 3      distance  {'n_neighbors': 3, 'weights': 'distance'}   \n",
       "4                 5       uniform   {'n_neighbors': 5, 'weights': 'uniform'}   \n",
       "\n",
       "   split0_test_score  split1_test_score  split2_test_score  ...  \\\n",
       "0          -0.821122          -0.899368          -1.259643  ...   \n",
       "1          -0.821122          -0.899368          -1.259643  ...   \n",
       "2          -1.024944          -0.919585          -1.116104  ...   \n",
       "3          -0.824822          -0.755185          -1.043138  ...   \n",
       "4          -0.904828          -0.865089          -1.187153  ...   \n",
       "\n",
       "   mean_test_score  std_test_score  rank_test_score  split0_train_score  \\\n",
       "0         1.394821        0.649748               44           -0.000000   \n",
       "1         1.394821        0.649748               44           -0.000000   \n",
       "2         1.434291        0.515548               46           -0.892133   \n",
       "3         1.272036        0.497119               30           -0.000000   \n",
       "4         1.186356        0.343695               27           -1.216975   \n",
       "\n",
       "   split1_train_score  split2_train_score  split3_train_score  \\\n",
       "0           -0.000000           -0.000000           -0.000000   \n",
       "1           -0.000000           -0.000000           -0.000000   \n",
       "2           -0.875618           -0.881866           -0.804358   \n",
       "3           -0.000000           -0.000000           -0.000000   \n",
       "4           -1.145306           -1.037295           -1.016296   \n",
       "\n",
       "   split4_train_score  mean_train_score  std_train_score  \n",
       "0           -0.000000          0.000000         0.000000  \n",
       "1           -0.000000          0.000000         0.000000  \n",
       "2           -0.725868          0.835968         0.063174  \n",
       "3           -0.000000          0.000000         0.000000  \n",
       "4           -1.005859          1.084346         0.082839  \n",
       "\n",
       "[5 rows x 22 columns]"
      ]
     },
     "execution_count": 33,
     "metadata": {},
     "output_type": "execute_result"
    }
   ],
   "source": [
    "results = pd.DataFrame.from_dict(gridsearch.cv_results_)\n",
    "results[\"mean_test_score\"] = results[\"mean_test_score\"].apply(abs)\n",
    "results[\"mean_train_score\"] = results[\"mean_train_score\"].apply(abs)\n",
    "results.head()"
   ]
  },
  {
   "cell_type": "code",
   "execution_count": 34,
   "metadata": {
    "id": "eh8Ppcux7NAy"
   },
   "outputs": [],
   "source": [
    "n_neighbors = 17\n",
    "weights = \"distance\""
   ]
  },
  {
   "cell_type": "code",
   "execution_count": 35,
   "metadata": {
    "colab": {
     "base_uri": "https://localhost:8080/"
    },
    "id": "CqykF9Zz8C0D",
    "outputId": "66b11113-563f-427d-ae68-6df51be4b23c"
   },
   "outputs": [
    {
     "data": {
      "text/plain": [
       "(5900.163620067739, 0.431086699078908)"
      ]
     },
     "execution_count": 35,
     "metadata": {},
     "output_type": "execute_result"
    }
   ],
   "source": [
    "model = KNeighborsRegressor(n_neighbors = n_neighbors, weights = weights)\n",
    "model.fit(x_train_scaled, y_train_scaled)\n",
    "\n",
    "y_pred_scaled = model.predict(x_test_scaled)\n",
    "y_pred = y_scaler.inverse_transform(y_pred_scaled.reshape(-1, 1))\n",
    "\n",
    "mean_squared_error(y_test, y_pred, squared = False), mean_absolute_percentage_error(y_test, y_pred)"
   ]
  },
  {
   "cell_type": "markdown",
   "metadata": {
    "id": "xKMmMrfTctZg"
   },
   "source": [
    "# SVM Regressor"
   ]
  },
  {
   "cell_type": "code",
   "execution_count": 36,
   "metadata": {
    "colab": {
     "base_uri": "https://localhost:8080/"
    },
    "id": "vB8tJLvL8QiY",
    "outputId": "e8578096-b1f8-4129-b0ba-f4bac90d3ab3"
   },
   "outputs": [
    {
     "name": "stdout",
     "output_type": "stream",
     "text": [
      "Fitting 5 folds for each of 60 candidates, totalling 300 fits\n"
     ]
    },
    {
     "name": "stderr",
     "output_type": "stream",
     "text": [
      "C:\\Users\\hp\\anaconda3\\lib\\site-packages\\sklearn\\utils\\validation.py:63: DataConversionWarning: A column-vector y was passed when a 1d array was expected. Please change the shape of y to (n_samples, ), for example using ravel().\n",
      "  return f(*args, **kwargs)\n"
     ]
    },
    {
     "data": {
      "text/plain": [
       "GridSearchCV(cv=5, estimator=SVR(), n_jobs=-1,\n",
       "             param_grid={'C': [1e-05, 3.3e-05, 0.0001, 0.00033, 0.001, 0.0033,\n",
       "                               0.01, 0.033, 0.1, 0.33, 1, 3.3, 10, 33, 100],\n",
       "                         'kernel': ['linear', 'poly', 'rbf', 'sigmoid']},\n",
       "             return_train_score=True,\n",
       "             scoring='neg_mean_absolute_percentage_error', verbose=1)"
      ]
     },
     "execution_count": 36,
     "metadata": {},
     "output_type": "execute_result"
    }
   ],
   "source": [
    "model = SVR()\n",
    "params = {\"kernel\" : [\"linear\", \"poly\", \"rbf\", \"sigmoid\"], \n",
    "          \"C\" : [.00001, .000033, .0001, .00033, .001, .0033, .01, .033, .1, .33, 1, 3.3, 10, 33, 100]}\n",
    "gridsearch = GridSearchCV(model, params, scoring = \"neg_mean_absolute_percentage_error\", n_jobs = -1, \n",
    "                          cv = 5, return_train_score = True, verbose = 1)\n",
    "gridsearch.fit(x_train_scaled, y_train_scaled)"
   ]
  },
  {
   "cell_type": "code",
   "execution_count": null,
   "metadata": {
    "colab": {
     "base_uri": "https://localhost:8080/",
     "height": 531
    },
    "id": "M118dfuydUvP",
    "outputId": "de5be8e3-4b0b-406d-e6cd-cc3fd44d8d19"
   },
   "outputs": [
    {
     "data": {
      "text/html": [
       "\n",
       "  <div id=\"df-1eda8987-5a6b-41fd-8aea-1d0f31d044ae\">\n",
       "    <div class=\"colab-df-container\">\n",
       "      <div>\n",
       "<style scoped>\n",
       "    .dataframe tbody tr th:only-of-type {\n",
       "        vertical-align: middle;\n",
       "    }\n",
       "\n",
       "    .dataframe tbody tr th {\n",
       "        vertical-align: top;\n",
       "    }\n",
       "\n",
       "    .dataframe thead th {\n",
       "        text-align: right;\n",
       "    }\n",
       "</style>\n",
       "<table border=\"1\" class=\"dataframe\">\n",
       "  <thead>\n",
       "    <tr style=\"text-align: right;\">\n",
       "      <th></th>\n",
       "      <th>mean_fit_time</th>\n",
       "      <th>std_fit_time</th>\n",
       "      <th>mean_score_time</th>\n",
       "      <th>std_score_time</th>\n",
       "      <th>param_C</th>\n",
       "      <th>param_kernel</th>\n",
       "      <th>params</th>\n",
       "      <th>split0_test_score</th>\n",
       "      <th>split1_test_score</th>\n",
       "      <th>split2_test_score</th>\n",
       "      <th>split3_test_score</th>\n",
       "      <th>split4_test_score</th>\n",
       "      <th>mean_test_score</th>\n",
       "      <th>std_test_score</th>\n",
       "      <th>rank_test_score</th>\n",
       "      <th>split0_train_score</th>\n",
       "      <th>split1_train_score</th>\n",
       "      <th>split2_train_score</th>\n",
       "      <th>split3_train_score</th>\n",
       "      <th>split4_train_score</th>\n",
       "      <th>mean_train_score</th>\n",
       "      <th>std_train_score</th>\n",
       "    </tr>\n",
       "  </thead>\n",
       "  <tbody>\n",
       "    <tr>\n",
       "      <th>0</th>\n",
       "      <td>0.048430</td>\n",
       "      <td>0.003084</td>\n",
       "      <td>0.007282</td>\n",
       "      <td>0.000118</td>\n",
       "      <td>1e-05</td>\n",
       "      <td>linear</td>\n",
       "      <td>{'C': 1e-05, 'kernel': 'linear'}</td>\n",
       "      <td>-1.499551</td>\n",
       "      <td>-1.896522</td>\n",
       "      <td>-6.015751</td>\n",
       "      <td>-1.553286</td>\n",
       "      <td>-15.682342</td>\n",
       "      <td>5.329490</td>\n",
       "      <td>5.447310</td>\n",
       "      <td>45</td>\n",
       "      <td>-6.361185</td>\n",
       "      <td>-5.972385</td>\n",
       "      <td>-5.112256</td>\n",
       "      <td>-6.645173</td>\n",
       "      <td>-2.743494</td>\n",
       "      <td>5.366899</td>\n",
       "      <td>1.409702</td>\n",
       "    </tr>\n",
       "    <tr>\n",
       "      <th>1</th>\n",
       "      <td>0.049187</td>\n",
       "      <td>0.007576</td>\n",
       "      <td>0.008310</td>\n",
       "      <td>0.000913</td>\n",
       "      <td>1e-05</td>\n",
       "      <td>poly</td>\n",
       "      <td>{'C': 1e-05, 'kernel': 'poly'}</td>\n",
       "      <td>-1.510600</td>\n",
       "      <td>-1.912593</td>\n",
       "      <td>-6.050898</td>\n",
       "      <td>-1.560588</td>\n",
       "      <td>-15.850051</td>\n",
       "      <td>5.376946</td>\n",
       "      <td>5.507361</td>\n",
       "      <td>53</td>\n",
       "      <td>-6.446685</td>\n",
       "      <td>-6.031670</td>\n",
       "      <td>-5.158685</td>\n",
       "      <td>-6.692102</td>\n",
       "      <td>-2.764443</td>\n",
       "      <td>5.418717</td>\n",
       "      <td>1.425954</td>\n",
       "    </tr>\n",
       "    <tr>\n",
       "      <th>2</th>\n",
       "      <td>0.068231</td>\n",
       "      <td>0.005794</td>\n",
       "      <td>0.017186</td>\n",
       "      <td>0.001319</td>\n",
       "      <td>1e-05</td>\n",
       "      <td>rbf</td>\n",
       "      <td>{'C': 1e-05, 'kernel': 'rbf'}</td>\n",
       "      <td>-1.510424</td>\n",
       "      <td>-1.912597</td>\n",
       "      <td>-6.049668</td>\n",
       "      <td>-1.560560</td>\n",
       "      <td>-15.844675</td>\n",
       "      <td>5.375585</td>\n",
       "      <td>5.505314</td>\n",
       "      <td>52</td>\n",
       "      <td>-6.444530</td>\n",
       "      <td>-6.030927</td>\n",
       "      <td>-5.157793</td>\n",
       "      <td>-6.691094</td>\n",
       "      <td>-2.763870</td>\n",
       "      <td>5.417643</td>\n",
       "      <td>1.425645</td>\n",
       "    </tr>\n",
       "    <tr>\n",
       "      <th>3</th>\n",
       "      <td>0.078028</td>\n",
       "      <td>0.003308</td>\n",
       "      <td>0.014933</td>\n",
       "      <td>0.001243</td>\n",
       "      <td>1e-05</td>\n",
       "      <td>sigmoid</td>\n",
       "      <td>{'C': 1e-05, 'kernel': 'sigmoid'}</td>\n",
       "      <td>-1.509941</td>\n",
       "      <td>-1.911641</td>\n",
       "      <td>-6.049373</td>\n",
       "      <td>-1.560234</td>\n",
       "      <td>-15.833732</td>\n",
       "      <td>5.372984</td>\n",
       "      <td>5.501378</td>\n",
       "      <td>51</td>\n",
       "      <td>-6.441108</td>\n",
       "      <td>-6.028068</td>\n",
       "      <td>-5.156331</td>\n",
       "      <td>-6.689354</td>\n",
       "      <td>-2.762523</td>\n",
       "      <td>5.415477</td>\n",
       "      <td>1.425151</td>\n",
       "    </tr>\n",
       "    <tr>\n",
       "      <th>4</th>\n",
       "      <td>0.043296</td>\n",
       "      <td>0.004642</td>\n",
       "      <td>0.008581</td>\n",
       "      <td>0.003113</td>\n",
       "      <td>3.3e-05</td>\n",
       "      <td>linear</td>\n",
       "      <td>{'C': 3.3e-05, 'kernel': 'linear'}</td>\n",
       "      <td>-1.476769</td>\n",
       "      <td>-1.851682</td>\n",
       "      <td>-5.894457</td>\n",
       "      <td>-1.535064</td>\n",
       "      <td>-15.297558</td>\n",
       "      <td>5.211106</td>\n",
       "      <td>5.309384</td>\n",
       "      <td>41</td>\n",
       "      <td>-6.184136</td>\n",
       "      <td>-5.807364</td>\n",
       "      <td>-4.969872</td>\n",
       "      <td>-6.529355</td>\n",
       "      <td>-2.695175</td>\n",
       "      <td>5.237180</td>\n",
       "      <td>1.372938</td>\n",
       "    </tr>\n",
       "  </tbody>\n",
       "</table>\n",
       "</div>\n",
       "      <button class=\"colab-df-convert\" onclick=\"convertToInteractive('df-1eda8987-5a6b-41fd-8aea-1d0f31d044ae')\"\n",
       "              title=\"Convert this dataframe to an interactive table.\"\n",
       "              style=\"display:none;\">\n",
       "        \n",
       "  <svg xmlns=\"http://www.w3.org/2000/svg\" height=\"24px\"viewBox=\"0 0 24 24\"\n",
       "       width=\"24px\">\n",
       "    <path d=\"M0 0h24v24H0V0z\" fill=\"none\"/>\n",
       "    <path d=\"M18.56 5.44l.94 2.06.94-2.06 2.06-.94-2.06-.94-.94-2.06-.94 2.06-2.06.94zm-11 1L8.5 8.5l.94-2.06 2.06-.94-2.06-.94L8.5 2.5l-.94 2.06-2.06.94zm10 10l.94 2.06.94-2.06 2.06-.94-2.06-.94-.94-2.06-.94 2.06-2.06.94z\"/><path d=\"M17.41 7.96l-1.37-1.37c-.4-.4-.92-.59-1.43-.59-.52 0-1.04.2-1.43.59L10.3 9.45l-7.72 7.72c-.78.78-.78 2.05 0 2.83L4 21.41c.39.39.9.59 1.41.59.51 0 1.02-.2 1.41-.59l7.78-7.78 2.81-2.81c.8-.78.8-2.07 0-2.86zM5.41 20L4 18.59l7.72-7.72 1.47 1.35L5.41 20z\"/>\n",
       "  </svg>\n",
       "      </button>\n",
       "      \n",
       "  <style>\n",
       "    .colab-df-container {\n",
       "      display:flex;\n",
       "      flex-wrap:wrap;\n",
       "      gap: 12px;\n",
       "    }\n",
       "\n",
       "    .colab-df-convert {\n",
       "      background-color: #E8F0FE;\n",
       "      border: none;\n",
       "      border-radius: 50%;\n",
       "      cursor: pointer;\n",
       "      display: none;\n",
       "      fill: #1967D2;\n",
       "      height: 32px;\n",
       "      padding: 0 0 0 0;\n",
       "      width: 32px;\n",
       "    }\n",
       "\n",
       "    .colab-df-convert:hover {\n",
       "      background-color: #E2EBFA;\n",
       "      box-shadow: 0px 1px 2px rgba(60, 64, 67, 0.3), 0px 1px 3px 1px rgba(60, 64, 67, 0.15);\n",
       "      fill: #174EA6;\n",
       "    }\n",
       "\n",
       "    [theme=dark] .colab-df-convert {\n",
       "      background-color: #3B4455;\n",
       "      fill: #D2E3FC;\n",
       "    }\n",
       "\n",
       "    [theme=dark] .colab-df-convert:hover {\n",
       "      background-color: #434B5C;\n",
       "      box-shadow: 0px 1px 3px 1px rgba(0, 0, 0, 0.15);\n",
       "      filter: drop-shadow(0px 1px 2px rgba(0, 0, 0, 0.3));\n",
       "      fill: #FFFFFF;\n",
       "    }\n",
       "  </style>\n",
       "\n",
       "      <script>\n",
       "        const buttonEl =\n",
       "          document.querySelector('#df-1eda8987-5a6b-41fd-8aea-1d0f31d044ae button.colab-df-convert');\n",
       "        buttonEl.style.display =\n",
       "          google.colab.kernel.accessAllowed ? 'block' : 'none';\n",
       "\n",
       "        async function convertToInteractive(key) {\n",
       "          const element = document.querySelector('#df-1eda8987-5a6b-41fd-8aea-1d0f31d044ae');\n",
       "          const dataTable =\n",
       "            await google.colab.kernel.invokeFunction('convertToInteractive',\n",
       "                                                     [key], {});\n",
       "          if (!dataTable) return;\n",
       "\n",
       "          const docLinkHtml = 'Like what you see? Visit the ' +\n",
       "            '<a target=\"_blank\" href=https://colab.research.google.com/notebooks/data_table.ipynb>data table notebook</a>'\n",
       "            + ' to learn more about interactive tables.';\n",
       "          element.innerHTML = '';\n",
       "          dataTable['output_type'] = 'display_data';\n",
       "          await google.colab.output.renderOutput(dataTable, element);\n",
       "          const docLink = document.createElement('div');\n",
       "          docLink.innerHTML = docLinkHtml;\n",
       "          element.appendChild(docLink);\n",
       "        }\n",
       "      </script>\n",
       "    </div>\n",
       "  </div>\n",
       "  "
      ],
      "text/plain": [
       "   mean_fit_time  std_fit_time  ...  mean_train_score  std_train_score\n",
       "0       0.048430      0.003084  ...          5.366899         1.409702\n",
       "1       0.049187      0.007576  ...          5.418717         1.425954\n",
       "2       0.068231      0.005794  ...          5.417643         1.425645\n",
       "3       0.078028      0.003308  ...          5.415477         1.425151\n",
       "4       0.043296      0.004642  ...          5.237180         1.372938\n",
       "\n",
       "[5 rows x 22 columns]"
      ]
     },
     "execution_count": 248,
     "metadata": {},
     "output_type": "execute_result"
    }
   ],
   "source": [
    "results = pd.DataFrame.from_dict(gridsearch.cv_results_)\n",
    "results[\"mean_test_score\"] = results[\"mean_test_score\"].apply(abs)\n",
    "results[\"mean_train_score\"] = results[\"mean_train_score\"].apply(abs)\n",
    "results.head()"
   ]
  },
  {
   "cell_type": "code",
   "execution_count": 37,
   "metadata": {
    "id": "aeTliu08dtQU"
   },
   "outputs": [],
   "source": [
    "C = 1\n",
    "kernel = \"poly\""
   ]
  },
  {
   "cell_type": "code",
   "execution_count": 38,
   "metadata": {
    "colab": {
     "base_uri": "https://localhost:8080/"
    },
    "id": "BBPgsAOieL0I",
    "outputId": "f7efb624-05bb-4dda-dd2c-08e3935112f4"
   },
   "outputs": [
    {
     "name": "stderr",
     "output_type": "stream",
     "text": [
      "C:\\Users\\hp\\anaconda3\\lib\\site-packages\\sklearn\\utils\\validation.py:63: DataConversionWarning: A column-vector y was passed when a 1d array was expected. Please change the shape of y to (n_samples, ), for example using ravel().\n",
      "  return f(*args, **kwargs)\n"
     ]
    },
    {
     "data": {
      "text/plain": [
       "(4919.547635763853, 0.18837833681408908)"
      ]
     },
     "execution_count": 38,
     "metadata": {},
     "output_type": "execute_result"
    }
   ],
   "source": [
    "model = SVR(C = C, kernel = kernel)\n",
    "model.fit(x_train_scaled, y_train_scaled)\n",
    "\n",
    "y_pred_scaled = model.predict(x_test_scaled)\n",
    "y_pred = y_scaler.inverse_transform(y_pred_scaled.reshape(-1, 1))\n",
    "\n",
    "mean_squared_error(y_test, y_pred, squared = False), mean_absolute_percentage_error(y_test, y_pred)"
   ]
  },
  {
   "cell_type": "markdown",
   "metadata": {
    "id": "0TeXP3ZZi0bY"
   },
   "source": [
    "* From feature importance, we can see that, a smoker pays more charges and has highest influence on medical charges. Intuitively, there is a higher probability that a smoker has health issues and goes to hospital, so medical charges increases.\n",
    "* As age increases, the probability of getting health issues increases, so this effects medical charges.\n",
    "* BMI also has an effect on charges as observed from feature importance.\n",
    "* Important thing to note is our model has a very very small bias towards gender and region when compared to smoker."
   ]
  },
  {
   "cell_type": "code",
   "execution_count": 9,
   "metadata": {
    "colab": {
     "base_uri": "https://localhost:8080/"
    },
    "id": "v24u6g8mwjhH",
    "outputId": "b5486f41-b3bd-446e-c3d1-b43465210e80"
   },
   "outputs": [
    {
     "name": "stdout",
     "output_type": "stream",
     "text": [
      "+----------------------------+-----------+\n",
      "|           Model            | test MAPE |\n",
      "+----------------------------+-----------+\n",
      "| Linear Regression with L1  |   0.9429  |\n",
      "|   and L2 regularization    |           |\n",
      "|       kNN Regressor        |   0.3386  |\n",
      "|       SVM Regressor        |   0.2112  |\n",
      "|  Random Forest Regressor   |   0.3064  |\n",
      "|     XGBoost Regressor      |   0.2663  |\n",
      "+----------------------------+-----------+\n"
     ]
    }
   ],
   "source": [
    "# Comparing results of different models\n",
    "p = PrettyTable([\"Model\", \"test MAPE\"])\n",
    "p.add_row([\"Linear Regression with L1 \\nand L2 regularization\", \"0.9429\"])\n",
    "p.add_row([\"kNN Regressor\", \"0.3386\"])\n",
    "p.add_row([\"SVM Regressor\", \"0.2112\"])\n",
    "print(p)"
   ]
  }
 ],
 "metadata": {
  "colab": {
   "collapsed_sections": [],
   "name": "Medical Cost Personal Datasets.ipynb",
   "provenance": []
  },
  "kernelspec": {
   "display_name": "Python 3 (ipykernel)",
   "language": "python",
   "name": "python3"
  },
  "language_info": {
   "codemirror_mode": {
    "name": "ipython",
    "version": 3
   },
   "file_extension": ".py",
   "mimetype": "text/x-python",
   "name": "python",
   "nbconvert_exporter": "python",
   "pygments_lexer": "ipython3",
   "version": "3.9.7"
  }
 },
 "nbformat": 4,
 "nbformat_minor": 1
}
